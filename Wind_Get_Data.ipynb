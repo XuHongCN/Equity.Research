{
 "cells": [
  {
   "cell_type": "code",
   "execution_count": 22,
   "metadata": {},
   "outputs": [
    {
     "name": "stdout",
     "output_type": "stream",
     "text": [
      "xZBe7RkIVMwlQ6FssvY1tg==\n"
     ]
    }
   ],
   "source": [
    "## 通过密码生成验证码\n",
    "import hashlib\n",
    "password = \"XXXXXXX\";\n",
    "m=hashlib.md5()\n",
    "b=password.encode(encoding='UTF-8')\n",
    "m.update(b)\n",
    "import base64\n",
    "b64 = base64.b64encode(m.digest())\n",
    "verifyCode = bytes.decode(b64)\n",
    "print(verifyCode)\n",
    "## 生成验证密码完成"
   ]
  },
  {
   "cell_type": "code",
   "execution_count": 23,
   "metadata": {},
   "outputs": [
    {
     "data": {
      "text/plain": [
       "'b4380d99-3b83-4c8e-991c-0b31a90dc6cb'"
      ]
     },
     "execution_count": 23,
     "metadata": {},
     "output_type": "execute_result"
    }
   ],
   "source": [
    "##通过验证密码取得token\n",
    "#windUser:用户名，verifyCode：账户密码加密后生成的字符串\n",
    "#请务必注意：不要每次调用接口都重新取得token，太多调用会被认为账户异常，最终影响wft账户的正常使用\n",
    "import requests\n",
    "#token取得\n",
    "#请务必注意：不要每次调用接口都重新取得token，太多调用会被认为账户异常，最终影响wft账户的正常使用\n",
    "tokenResponse = requests.get(\"http://eapi.wind.com.cn/wind.ent.risk/openapi/getToken?windUser=18702198017&verifyCode=\"+requests.utils.quote(verifyCode))\n",
    "import json\n",
    "jsonToken = json.loads(tokenResponse.text)\n",
    "token = \"\"\n",
    "if jsonToken[\"errorCode\"] == 0:\n",
    "    token = jsonToken[\"source\"][\"token\"]\n",
    "    pass\n",
    "else : print(str(jsonToken[\"errorCode\"])+\":\"+jsonToken[\"message\"])\n",
    "##token取得完成 (运行一次就行)\n",
    "token "
   ]
  },
  {
   "cell_type": "code",
   "execution_count": 24,
   "metadata": {
    "collapsed": true
   },
   "outputs": [],
   "source": [
    "##通过token取查找企业的windId，然后查询企业信息\n",
    "def getInfoFromWind(corpName):\n",
    "    windId = \"\"\n",
    "    searchResult = requests.get(\"http://eapi.wind.com.cn/wind.ent.risk/openapi/searchcorplist?corpName=\"+corpName+\"&token=\"+token)\n",
    "    #如果errorCode = 403时，则说明token过期，或错误，需要通过上面接口重新取得token\n",
    "    searchResultJson = json.loads(searchResult.text)\n",
    "    if searchResultJson[\"errorCode\"] == 0:\n",
    "        if searchResultJson.get(\"source\") is not None and searchResultJson.get(\"source\")[\"total\"]>0:\n",
    "            windId = searchResultJson[\"source\"][\"items\"][0][\"windId\"]\n",
    "        pass\n",
    "    else : \n",
    "        pass #print(str(searchResultJson[\"errorCode\"])+\":\"+searchResultJson[\"message\"])\n",
    "    ##查找企业id完成\n",
    "\n",
    "    #定义端口    \n",
    "    port = 'A002'\n",
    "    \n",
    "    #查询企业信息\n",
    "    url=\"http://eapi.wind.com.cn/wind.ent.risk/openapi/corpinfo/\"+port+\"?windId=\"+windId+\"&token=\"+token\n",
    "    Result= requests.get(url)\n",
    "    ResultJson = json.loads(Result.text)\n",
    "    #print (ResultJson)\n",
    "    if ResultJson[\"errorCode\"] == 0:\n",
    "        data_res = ResultJson[\"source\"]\n",
    "        #status = '!!ok'\n",
    "        #print(data_res)\n",
    "        pass\n",
    "    else : \n",
    "        data_res = {'corpName': corpName, 'hisName': '', 'creditId': ' ', 'orgCode': '', 'regNum': '', 'legalRepName': '', 'regCap': '', 'regCapCur': '', 'establishDate': '', 'openFrom': '', 'openTo': '', 'controllerName': '', 'corpType': '', 'regStatus': '', 'businessScope': '', 'regOrgCode': '', 'cancelDate': '', 'revokeDate': '', 'accCap': '', 'accCapCur': '', 'regRegion': '', 'regProvince': '', 'regCity': '', 'regOrg': '', 'description': '', 'regAddress': '', 'email': '', 'telNum': '', 'website': '', 'industryCode': '', 'industryName': '', 'windIndustry': '', 'windIndustryTheme': ''}   \n",
    "        print(str(ResultJson[\"errorCode\"])+\":\"+ ResultJson[\"message\"]+\":\"+ ResultJson[\"source\"])\n",
    "        #status = ResultJson[\"Source\"]\n",
    "    ##查询相关数据完成\n",
    "    return data_res"
   ]
  },
  {
   "cell_type": "code",
   "execution_count": null,
   "metadata": {
    "collapsed": true
   },
   "outputs": [],
   "source": []
  },
  {
   "cell_type": "code",
   "execution_count": 30,
   "metadata": {},
   "outputs": [
    {
     "name": "stdout",
     "output_type": "stream",
     "text": [
      "1 / 10 东营银行股份有限公司\n",
      "2 / 10 辽阳银行股份有限公司\n",
      "3 / 10 桂林银行股份有限公司\n",
      "4 / 10 湖州银行股份有限公司\n",
      "5 / 10 浙江德清农村商业银行股份有限公司\n",
      "6 / 10 东莞农村商业银行股份有限公司\n",
      "7 / 10 日照银行股份有限公司\n",
      "8 / 10 江苏金融租赁股份有限公司\n",
      "9 / 10 浙江苍南农村商业银行股份有限公司\n",
      "10 / 10 西藏金融租赁有限公司\n"
     ]
    },
    {
     "data": {
      "text/html": [
       "<div>\n",
       "<style scoped>\n",
       "    .dataframe tbody tr th:only-of-type {\n",
       "        vertical-align: middle;\n",
       "    }\n",
       "\n",
       "    .dataframe tbody tr th {\n",
       "        vertical-align: top;\n",
       "    }\n",
       "\n",
       "    .dataframe thead th {\n",
       "        text-align: right;\n",
       "    }\n",
       "</style>\n",
       "<table border=\"1\" class=\"dataframe\">\n",
       "  <thead>\n",
       "    <tr style=\"text-align: right;\">\n",
       "      <th></th>\n",
       "      <th>corpName</th>\n",
       "      <th>hisName</th>\n",
       "      <th>creditId</th>\n",
       "      <th>orgCode</th>\n",
       "      <th>regNum</th>\n",
       "      <th>legalRepName</th>\n",
       "      <th>regCap</th>\n",
       "      <th>regCapCur</th>\n",
       "      <th>establishDate</th>\n",
       "      <th>openFrom</th>\n",
       "      <th>...</th>\n",
       "      <th>regOrg</th>\n",
       "      <th>description</th>\n",
       "      <th>regAddress</th>\n",
       "      <th>email</th>\n",
       "      <th>telNum</th>\n",
       "      <th>website</th>\n",
       "      <th>industryCode</th>\n",
       "      <th>industryName</th>\n",
       "      <th>windIndustry</th>\n",
       "      <th>windIndustryTheme</th>\n",
       "    </tr>\n",
       "  </thead>\n",
       "  <tbody>\n",
       "    <tr>\n",
       "      <th>0</th>\n",
       "      <td>东营银行股份有限公司</td>\n",
       "      <td>东营市商业银行股份有限公司</td>\n",
       "      <td>91370000732595249Q</td>\n",
       "      <td>732595249</td>\n",
       "      <td>370000018084402</td>\n",
       "      <td>高传星</td>\n",
       "      <td>273782.8297</td>\n",
       "      <td>人民币</td>\n",
       "      <td>20050822</td>\n",
       "      <td>2005-08-22</td>\n",
       "      <td>...</td>\n",
       "      <td>山东省市场监督管理局</td>\n",
       "      <td>东营银行股份有限公司于2005年08月22日在山东省工商行政管理局登记成立。法定代表人高传星...</td>\n",
       "      <td>山东省东营市东营区府前大街87-1号</td>\n",
       "      <td>boardoffice@dyccb.net</td>\n",
       "      <td>0546-8150823</td>\n",
       "      <td>http://www.dyccb.net,http://www.dyccb.net/</td>\n",
       "      <td>J6620</td>\n",
       "      <td>货币银行服务</td>\n",
       "      <td>区域性银行</td>\n",
       "      <td>银行</td>\n",
       "    </tr>\n",
       "    <tr>\n",
       "      <th>0</th>\n",
       "      <td>辽阳银行股份有限公司</td>\n",
       "      <td>辽阳市商业银行股份有限公司</td>\n",
       "      <td>912110004645009004</td>\n",
       "      <td>464500900</td>\n",
       "      <td>211000004009417</td>\n",
       "      <td>徐雅清</td>\n",
       "      <td>263900.5242</td>\n",
       "      <td>人民币</td>\n",
       "      <td>19970325</td>\n",
       "      <td>1997-03-25</td>\n",
       "      <td>...</td>\n",
       "      <td>辽阳市市场监督管理局</td>\n",
       "      <td>辽阳银行是一家由国有股、企业法人股、自然人股组成的具有独立法人资格的股份制商业银行，在本地和...</td>\n",
       "      <td>辽阳市民主路２１号</td>\n",
       "      <td>liaoyangcb@163.com</td>\n",
       "      <td>0419-3733052</td>\n",
       "      <td>www.bankofliaoyang.net/www.bankofliaoyang.cn/w...</td>\n",
       "      <td>J6620</td>\n",
       "      <td>货币银行服务</td>\n",
       "      <td>区域性银行</td>\n",
       "      <td>银行</td>\n",
       "    </tr>\n",
       "    <tr>\n",
       "      <th>0</th>\n",
       "      <td>桂林银行股份有限公司</td>\n",
       "      <td>桂林市商业银行股份有限公司</td>\n",
       "      <td>91450300198879064G</td>\n",
       "      <td>198879064</td>\n",
       "      <td>450300000003307</td>\n",
       "      <td>吴东</td>\n",
       "      <td>500000.0</td>\n",
       "      <td></td>\n",
       "      <td>19970328</td>\n",
       "      <td>1997-03-28</td>\n",
       "      <td>...</td>\n",
       "      <td>桂林市市场监督管理局</td>\n",
       "      <td>桂林银行成立于1997年3月，是由桂林市财政、地方优势企业和城镇居民等众多股东共同发起投立的...</td>\n",
       "      <td>桂林市临桂区公园北路8号</td>\n",
       "      <td>sd@guilinbankcom.cn</td>\n",
       "      <td>0773-3851609</td>\n",
       "      <td>http://www.guilibank.com.cn,http://www.guilinb...</td>\n",
       "      <td>J6620</td>\n",
       "      <td>货币银行服务</td>\n",
       "      <td>区域性银行</td>\n",
       "      <td>银行</td>\n",
       "    </tr>\n",
       "    <tr>\n",
       "      <th>0</th>\n",
       "      <td>湖州银行股份有限公司</td>\n",
       "      <td>湖州市商业银行股份有限公司</td>\n",
       "      <td>91330500717611212U</td>\n",
       "      <td>717611212</td>\n",
       "      <td>330500000014512</td>\n",
       "      <td>吴继平</td>\n",
       "      <td>101337.2667</td>\n",
       "      <td>人民币</td>\n",
       "      <td>19980617</td>\n",
       "      <td>1998-06-17</td>\n",
       "      <td>...</td>\n",
       "      <td>湖州市市场监督管理局</td>\n",
       "      <td>湖州银行是中国浙江省湖州市的一家区域性股份制商业银行。前身是1998年6月17日成立的湖州市...</td>\n",
       "      <td>浙江省湖州市红旗路268号</td>\n",
       "      <td></td>\n",
       "      <td>2890021</td>\n",
       "      <td>http://www.hzccb.net</td>\n",
       "      <td>J66</td>\n",
       "      <td>货币金融服务</td>\n",
       "      <td>区域性银行</td>\n",
       "      <td>银行</td>\n",
       "    </tr>\n",
       "    <tr>\n",
       "      <th>0</th>\n",
       "      <td>浙江德清农村商业银行股份有限公司</td>\n",
       "      <td>浙江德清农村合作银行</td>\n",
       "      <td>9133050076962455XQ</td>\n",
       "      <td>76962455X</td>\n",
       "      <td>330521000017820</td>\n",
       "      <td>陈春仿</td>\n",
       "      <td>80850.0005</td>\n",
       "      <td>人民币</td>\n",
       "      <td>20080821</td>\n",
       "      <td>2008-08-21</td>\n",
       "      <td>...</td>\n",
       "      <td>湖州市市场监督管理局</td>\n",
       "      <td>浙江德清农村合作银行是全国农村信用社第二轮改革中，经中国银行业监督管理委员会批准设立的股份合...</td>\n",
       "      <td>浙江省德清县武康街道沈长圩街50号</td>\n",
       "      <td></td>\n",
       "      <td>0572-8065931</td>\n",
       "      <td>http://www.deqingbank.com</td>\n",
       "      <td>J6620</td>\n",
       "      <td>货币银行服务</td>\n",
       "      <td>区域性银行</td>\n",
       "      <td>银行</td>\n",
       "    </tr>\n",
       "  </tbody>\n",
       "</table>\n",
       "<p>5 rows × 33 columns</p>\n",
       "</div>"
      ],
      "text/plain": [
       "           corpName        hisName            creditId    orgCode  \\\n",
       "0        东营银行股份有限公司  东营市商业银行股份有限公司  91370000732595249Q  732595249   \n",
       "0        辽阳银行股份有限公司  辽阳市商业银行股份有限公司  912110004645009004  464500900   \n",
       "0        桂林银行股份有限公司  桂林市商业银行股份有限公司  91450300198879064G  198879064   \n",
       "0        湖州银行股份有限公司  湖州市商业银行股份有限公司  91330500717611212U  717611212   \n",
       "0  浙江德清农村商业银行股份有限公司     浙江德清农村合作银行  9133050076962455XQ  76962455X   \n",
       "\n",
       "            regNum legalRepName       regCap regCapCur establishDate  \\\n",
       "0  370000018084402          高传星  273782.8297       人民币      20050822   \n",
       "0  211000004009417          徐雅清  263900.5242       人民币      19970325   \n",
       "0  450300000003307           吴东     500000.0                19970328   \n",
       "0  330500000014512          吴继平  101337.2667       人民币      19980617   \n",
       "0  330521000017820          陈春仿   80850.0005       人民币      20080821   \n",
       "\n",
       "     openFrom  ...      regOrg  \\\n",
       "0  2005-08-22  ...  山东省市场监督管理局   \n",
       "0  1997-03-25  ...  辽阳市市场监督管理局   \n",
       "0  1997-03-28  ...  桂林市市场监督管理局   \n",
       "0  1998-06-17  ...  湖州市市场监督管理局   \n",
       "0  2008-08-21  ...  湖州市市场监督管理局   \n",
       "\n",
       "                                         description          regAddress  \\\n",
       "0  东营银行股份有限公司于2005年08月22日在山东省工商行政管理局登记成立。法定代表人高传星...  山东省东营市东营区府前大街87-1号   \n",
       "0  辽阳银行是一家由国有股、企业法人股、自然人股组成的具有独立法人资格的股份制商业银行，在本地和...           辽阳市民主路２１号   \n",
       "0  桂林银行成立于1997年3月，是由桂林市财政、地方优势企业和城镇居民等众多股东共同发起投立的...        桂林市临桂区公园北路8号   \n",
       "0  湖州银行是中国浙江省湖州市的一家区域性股份制商业银行。前身是1998年6月17日成立的湖州市...       浙江省湖州市红旗路268号   \n",
       "0  浙江德清农村合作银行是全国农村信用社第二轮改革中，经中国银行业监督管理委员会批准设立的股份合...   浙江省德清县武康街道沈长圩街50号   \n",
       "\n",
       "                   email        telNum  \\\n",
       "0  boardoffice@dyccb.net  0546-8150823   \n",
       "0     liaoyangcb@163.com  0419-3733052   \n",
       "0    sd@guilinbankcom.cn  0773-3851609   \n",
       "0                              2890021   \n",
       "0                         0572-8065931   \n",
       "\n",
       "                                             website industryCode  \\\n",
       "0         http://www.dyccb.net,http://www.dyccb.net/        J6620   \n",
       "0  www.bankofliaoyang.net/www.bankofliaoyang.cn/w...        J6620   \n",
       "0  http://www.guilibank.com.cn,http://www.guilinb...        J6620   \n",
       "0                               http://www.hzccb.net          J66   \n",
       "0                          http://www.deqingbank.com        J6620   \n",
       "\n",
       "  industryName windIndustry windIndustryTheme  \n",
       "0       货币银行服务        区域性银行                银行  \n",
       "0       货币银行服务        区域性银行                银行  \n",
       "0       货币银行服务        区域性银行                银行  \n",
       "0       货币金融服务        区域性银行                银行  \n",
       "0       货币银行服务        区域性银行                银行  \n",
       "\n",
       "[5 rows x 33 columns]"
      ]
     },
     "execution_count": 30,
     "metadata": {},
     "output_type": "execute_result"
    }
   ],
   "source": [
    "import time\n",
    "import pandas as pd\n",
    "df = pd.read_excel(r'/Users/HongX/Desktop/汇总台账.xlsx')\n",
    "corpNameList = df[r'发行人全称'].values.tolist()\n",
    "corpNameList = corpNameList[0:10]\n",
    "#print (corpNameList)\n",
    "\n",
    "df_results = pd.DataFrame()\n",
    "\n",
    "count = 0\n",
    "for corp in corpNameList:\n",
    "    count +=1\n",
    "    result_tmp = getInfoFromWind(corp)\n",
    "    df_tmp = pd.DataFrame.from_dict(result_tmp, orient='index').T\n",
    "    frames = [df_results, df_tmp]\n",
    "    df_results = pd.concat(frames)\n",
    "    df_results.to_csv('/Users/HongX/Desktop/corp_info_from_Wind.csv', encoding='utf_8_sig')\n",
    "    print (count, '/', len(corpNameList), corp)\n",
    "    time.sleep(3)\n",
    "    \n",
    "df_results.to_csv('/Users/HongX/Desktop/corp_info_from_Wind.csv', encoding='utf_8_sig')\n",
    "df_results.head()"
   ]
  },
  {
   "cell_type": "code",
   "execution_count": null,
   "metadata": {
    "collapsed": true
   },
   "outputs": [],
   "source": [
    "#ENDING"
   ]
  },
  {
   "cell_type": "code",
   "execution_count": null,
   "metadata": {
    "collapsed": true
   },
   "outputs": [],
   "source": []
  },
  {
   "cell_type": "code",
   "execution_count": 34,
   "metadata": {},
   "outputs": [
    {
     "data": {
      "text/plain": [
       "{'corpName': '无锡市新发集团有限公司',\n",
       " 'hisName': '无锡市开发区发展总公司,无锡市新区发展集团有限公司,无锡市新区经济发展集团总公司',\n",
       " 'creditId': '9132021325045518X3',\n",
       " 'orgCode': '25045518X',\n",
       " 'regNum': '320213000001584',\n",
       " 'legalRepName': '黄际洲',\n",
       " 'regCap': '1202869.951863',\n",
       " 'regCapCur': '人民币',\n",
       " 'establishDate': '19920721',\n",
       " 'openFrom': '1992-07-21',\n",
       " 'openTo': '',\n",
       " 'controllerName': '无锡市人民政府',\n",
       " 'corpType': '有限责任公司(国有独资)',\n",
       " 'regStatus': '存续（在营、开业、在册）',\n",
       " 'businessScope': '股权投资、国有土地开发、基础设施建设、公用设施开发经营、城市建设综合开发、自有房产经营及物业管理、企业管理咨询、投资咨询、园艺经营（含苗木销售）。（依法须经批准的项目，经相关部门批准后方可开展经营活动）',\n",
       " 'regOrgCode': '320214',\n",
       " 'cancelDate': '',\n",
       " 'revokeDate': '',\n",
       " 'accCap': '',\n",
       " 'accCapCur': '',\n",
       " 'regRegion': '无锡市新吴区汇融广场2－402、502、602、702、801、901',\n",
       " 'regProvince': '江苏省',\n",
       " 'regCity': '无锡市',\n",
       " 'regOrg': '无锡国家高新技术产业开发区（无锡市新吴区）行政审批局',\n",
       " 'description': '无锡市新发集团有限公司（下称：新发集团）是无锡高新区（新吴区）直属国有独资公司，作为区域开发的组织和实施主体，长期承担政府性的开发建设、融资及对外投资任务；承担区域科技载体、公用事业、市政绿化等基础设施的建设和运营；从事高新技术企业投资、国有资产经营和资本运作等。近年来，正在逐步实现从原来单一的保障平台功能向投资决策和运营管理职能转变。目前，新发集团注册资本119亿元，净资产约157亿元，总资产约406亿元。截至2018年末，集团共有对外投资企业43家，对外投资额近90亿元。',\n",
       " 'regAddress': '无锡市新吴区汇融广场2－402、502、602、702、801、901',\n",
       " 'email': 'xfjt_wx@foxmail.com',\n",
       " 'telNum': '051085211482',\n",
       " 'website': 'group.wnd.gov.cn,http://group.wnd.gov.cn/',\n",
       " 'industryCode': 'S90',\n",
       " 'industryName': '综合',\n",
       " 'windIndustry': '综合类行业',\n",
       " 'windIndustryTheme': '综合类'}"
      ]
     },
     "execution_count": 34,
     "metadata": {},
     "output_type": "execute_result"
    }
   ],
   "source": [
    "##TEST Only\n",
    "company = '无锡市新发集团有限公司'\n",
    "result_dict = getInfoFromWind(company)\n",
    "result_dict"
   ]
  },
  {
   "cell_type": "code",
   "execution_count": null,
   "metadata": {
    "collapsed": true
   },
   "outputs": [],
   "source": [
    "#\n",
    "url_check=\"http://eapi.wind.com.cn/wind.ent.risk/openapi/verifyCorpInfo/A002?pageIndex=1&pageSize=10&windId=\"+windId+\"&keyword=雷军&token=\"+token"
   ]
  },
  {
   "cell_type": "code",
   "execution_count": 19,
   "metadata": {},
   "outputs": [
    {
     "ename": "NameError",
     "evalue": "name 'url_a' is not defined",
     "output_type": "error",
     "traceback": [
      "\u001b[0;31m---------------------------------------------------------------------------\u001b[0m",
      "\u001b[0;31mNameError\u001b[0m                                 Traceback (most recent call last)",
      "\u001b[0;32m<ipython-input-19-f9552d05837e>\u001b[0m in \u001b[0;36m<module>\u001b[0;34m\u001b[0m\n\u001b[1;32m      2\u001b[0m \u001b[0;31m#基本信息的url样例：http://eapi.wind.com.cn/wind.ent.risk/openapi/corpinfo/接口id?pageIndex=1&pageSize=10&windId=上述查出的id&token=上述生成的token\u001b[0m\u001b[0;34m\u001b[0m\u001b[0;34m\u001b[0m\u001b[0;34m\u001b[0m\u001b[0m\n\u001b[1;32m      3\u001b[0m \u001b[0;31m#核查类接口url样例：http://eapi.wind.com.cn/wind.ent.risk/openapi/verifyCorpInfo/接口id?pageIndex=1&pageSize=10&windId=上述查出的id&根据接口参数填入参数（keyword=雷军 或者 beneficiary=雷军）&token=上述生成的token\u001b[0m\u001b[0;34m\u001b[0m\u001b[0;34m\u001b[0m\u001b[0;34m\u001b[0m\u001b[0m\n\u001b[0;32m----> 4\u001b[0;31m \u001b[0mResult\u001b[0m\u001b[0;34m=\u001b[0m \u001b[0mrequests\u001b[0m\u001b[0;34m.\u001b[0m\u001b[0mget\u001b[0m\u001b[0;34m(\u001b[0m\u001b[0murl_a\u001b[0m\u001b[0;34m)\u001b[0m\u001b[0;34m\u001b[0m\u001b[0;34m\u001b[0m\u001b[0m\n\u001b[0m\u001b[1;32m      5\u001b[0m \u001b[0mResultJson\u001b[0m \u001b[0;34m=\u001b[0m \u001b[0mjson\u001b[0m\u001b[0;34m.\u001b[0m\u001b[0mloads\u001b[0m\u001b[0;34m(\u001b[0m\u001b[0mResult\u001b[0m\u001b[0;34m.\u001b[0m\u001b[0mtext\u001b[0m\u001b[0;34m)\u001b[0m\u001b[0;34m\u001b[0m\u001b[0;34m\u001b[0m\u001b[0m\n\u001b[1;32m      6\u001b[0m \u001b[0;32mif\u001b[0m \u001b[0mResultJson\u001b[0m\u001b[0;34m[\u001b[0m\u001b[0;34m\"errorCode\"\u001b[0m\u001b[0;34m]\u001b[0m \u001b[0;34m==\u001b[0m \u001b[0;36m0\u001b[0m\u001b[0;34m:\u001b[0m\u001b[0;34m\u001b[0m\u001b[0;34m\u001b[0m\u001b[0m\n",
      "\u001b[0;31mNameError\u001b[0m: name 'url_a' is not defined"
     ]
    }
   ],
   "source": [
    "##通过windId取相关类型数据，具体参数参看每个接口的输入参数\n",
    "#基本信息的url样例：http://eapi.wind.com.cn/wind.ent.risk/openapi/corpinfo/接口id?pageIndex=1&pageSize=10&windId=上述查出的id&token=上述生成的token\n",
    "#核查类接口url样例：http://eapi.wind.com.cn/wind.ent.risk/openapi/verifyCorpInfo/接口id?pageIndex=1&pageSize=10&windId=上述查出的id&根据接口参数填入参数（keyword=雷军 或者 beneficiary=雷军）&token=上述生成的token\n",
    "Result= requests.get(url_a)\n",
    "ResultJson = json.loads(Result.text)\n",
    "if ResultJson[\"errorCode\"] == 0:\n",
    "    data = ResultJson[\"source\"]\n",
    "    print(data)\n",
    "    pass\n",
    "else : print(str(ResultJson[\"errorCode\"])+\":\"+ ResultJson[\"message\"])\n",
    "##查询相关数据完成"
   ]
  },
  {
   "cell_type": "code",
   "execution_count": null,
   "metadata": {
    "collapsed": true
   },
   "outputs": [],
   "source": []
  },
  {
   "cell_type": "code",
   "execution_count": 31,
   "metadata": {},
   "outputs": [
    {
     "ename": "ModuleNotFoundError",
     "evalue": "No module named 'DataAPI'",
     "output_type": "error",
     "traceback": [
      "\u001b[0;31m---------------------------------------------------------------------------\u001b[0m",
      "\u001b[0;31mModuleNotFoundError\u001b[0m                       Traceback (most recent call last)",
      "\u001b[0;32m<ipython-input-31-5ae3e8417338>\u001b[0m in \u001b[0;36m<module>\u001b[0;34m\u001b[0m\n\u001b[0;32m----> 1\u001b[0;31m \u001b[0;32mfrom\u001b[0m \u001b[0mDataAPI\u001b[0m \u001b[0;32mimport\u001b[0m \u001b[0;34m*\u001b[0m\u001b[0;34m\u001b[0m\u001b[0;34m\u001b[0m\u001b[0m\n\u001b[0m",
      "\u001b[0;31mModuleNotFoundError\u001b[0m: No module named 'DataAPI'"
     ]
    }
   ],
   "source": [
    "from DataAPI import *"
   ]
  },
  {
   "cell_type": "code",
   "execution_count": 33,
   "metadata": {},
   "outputs": [
    {
     "name": "stdout",
     "output_type": "stream",
     "text": [
      "Collecting DataAPI\n",
      "  Using cached DataAPI-0.8.2.tar.gz (732 kB)\n",
      "Requirement already satisfied: decorator>=4.0.4 in ./anaconda3/envs/wind/lib/python3.6/site-packages (from DataAPI) (4.4.2)\n",
      "Collecting Finance-Python>=0.4.1\n",
      "  Using cached Finance-Python-0.8.1.tar.gz (3.1 MB)\n",
      "\u001b[31m    ERROR: Command errored out with exit status 1:\n",
      "     command: /Users/HongX/anaconda3/envs/wind/bin/python -c 'import sys, setuptools, tokenize; sys.argv[0] = '\"'\"'/private/var/folders/bp/hxj408gn1pl64k326jnyvfzw0000gn/T/pip-install-ox_barwo/Finance-Python/setup.py'\"'\"'; __file__='\"'\"'/private/var/folders/bp/hxj408gn1pl64k326jnyvfzw0000gn/T/pip-install-ox_barwo/Finance-Python/setup.py'\"'\"';f=getattr(tokenize, '\"'\"'open'\"'\"', open)(__file__);code=f.read().replace('\"'\"'\\r\\n'\"'\"', '\"'\"'\\n'\"'\"');f.close();exec(compile(code, __file__, '\"'\"'exec'\"'\"'))' egg_info --egg-base /private/var/folders/bp/hxj408gn1pl64k326jnyvfzw0000gn/T/pip-install-ox_barwo/Finance-Python/pip-egg-info\n",
      "         cwd: /private/var/folders/bp/hxj408gn1pl64k326jnyvfzw0000gn/T/pip-install-ox_barwo/Finance-Python/\n",
      "    Complete output (5 lines):\n",
      "    Traceback (most recent call last):\n",
      "      File \"<string>\", line 1, in <module>\n",
      "      File \"/private/var/folders/bp/hxj408gn1pl64k326jnyvfzw0000gn/T/pip-install-ox_barwo/Finance-Python/setup.py\", line 13, in <module>\n",
      "        from Cython.Build import cythonize\n",
      "    ModuleNotFoundError: No module named 'Cython'\n",
      "    ----------------------------------------\u001b[0m\n",
      "\u001b[31mERROR: Command errored out with exit status 1: python setup.py egg_info Check the logs for full command output.\u001b[0m\n"
     ]
    }
   ],
   "source": [
    "!pip install DataAPI"
   ]
  },
  {
   "cell_type": "code",
   "execution_count": null,
   "metadata": {
    "collapsed": true
   },
   "outputs": [],
   "source": []
  },
  {
   "cell_type": "code",
   "execution_count": null,
   "metadata": {
    "collapsed": true
   },
   "outputs": [],
   "source": [
    "partyFullName primeOperating regProvince regCity opaScope profile"
   ]
  }
 ],
 "metadata": {
  "kernelspec": {
   "display_name": "Python 3",
   "language": "python",
   "name": "python3"
  },
  "language_info": {
   "codemirror_mode": {
    "name": "ipython",
    "version": 3
   },
   "file_extension": ".py",
   "mimetype": "text/x-python",
   "name": "python",
   "nbconvert_exporter": "python",
   "pygments_lexer": "ipython3",
   "version": "3.6.0"
  }
 },
 "nbformat": 4,
 "nbformat_minor": 4
}
